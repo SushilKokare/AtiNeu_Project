{
  "nbformat": 4,
  "nbformat_minor": 0,
  "metadata": {
    "colab": {
      "provenance": [],
      "authorship_tag": "ABX9TyPSLS3E7rBVHaIPSthxIDvC",
      "include_colab_link": true
    },
    "kernelspec": {
      "name": "python3",
      "display_name": "Python 3"
    },
    "language_info": {
      "name": "python"
    },
    "accelerator": "GPU",
    "gpuClass": "standard"
  },
  "cells": [
    {
      "cell_type": "markdown",
      "metadata": {
        "id": "view-in-github",
        "colab_type": "text"
      },
      "source": [
        "<a href=\"https://colab.research.google.com/github/SushilKokare/AtiNeu_Project/blob/main/6_ResNet50.ipynb\" target=\"_parent\"><img src=\"https://colab.research.google.com/assets/colab-badge.svg\" alt=\"Open In Colab\"/></a>"
      ]
    },
    {
      "cell_type": "code",
      "execution_count": 1,
      "metadata": {
        "id": "1rXgI3N1G5IP"
      },
      "outputs": [],
      "source": [
        " # import tensorflow as tf\n",
        "# from tensorflow.keras.applications.resnet50 import ResNet50\n",
        "\n",
        "# # Load ResNet50 model\n",
        "# model = ResNet50(weights='imagenet')\n",
        "\n",
        "# # Print model summary\n",
        "# # model.summary()"
      ]
    },
    {
      "cell_type": "code",
      "source": [
        "from google.colab import drive"
      ],
      "metadata": {
        "id": "WSgZ4wstG-Pr"
      },
      "execution_count": 2,
      "outputs": []
    },
    {
      "cell_type": "code",
      "source": [
        "drive.mount('/content/drive')"
      ],
      "metadata": {
        "colab": {
          "base_uri": "https://localhost:8080/"
        },
        "id": "79y3IeRHHEV9",
        "outputId": "31d7adeb-a9a1-4d62-ee1e-fbbd59195401"
      },
      "execution_count": 3,
      "outputs": [
        {
          "output_type": "stream",
          "name": "stdout",
          "text": [
            "Mounted at /content/drive\n"
          ]
        }
      ]
    },
    {
      "cell_type": "code",
      "source": [
        "import numpy as np\n",
        "import os\n",
        "import tensorflow as tf\n",
        "from tensorflow.keras.preprocessing.image import ImageDataGenerator\n",
        "from tensorflow.keras.applications.resnet50 import ResNet50\n",
        "from keras.layers import Dense,Flatten\n",
        "from keras.models import Model"
      ],
      "metadata": {
        "id": "PV68uE39HFsV"
      },
      "execution_count": 105,
      "outputs": []
    },
    {
      "cell_type": "code",
      "source": [
        "input_shape = (224,224,3)\n",
        "num_classes = 2\n",
        "batch_size = 32"
      ],
      "metadata": {
        "id": "lsSyszjXJ3Im"
      },
      "execution_count": 106,
      "outputs": []
    },
    {
      "cell_type": "code",
      "source": [
        "train_dir = '/content/drive/MyDrive/AtiNeu Project/Data/MRI/Brain_Data_Organised/Train'\n",
        "test_dir = '/content/drive/MyDrive/AtiNeu Project/Data/MRI/Brain_Data_Organised/Test'"
      ],
      "metadata": {
        "id": "NSMVnrH_KELK"
      },
      "execution_count": 107,
      "outputs": []
    },
    {
      "cell_type": "code",
      "source": [
        "train_datagen = ImageDataGenerator (rescale = 1./225,)\n",
        "test_datagen = ImageDataGenerator (rescale = 1./225)"
      ],
      "metadata": {
        "id": "IrdTlYN9KQvo"
      },
      "execution_count": 115,
      "outputs": []
    },
    {
      "cell_type": "code",
      "source": [
        "train_gen  = train_datagen.flow_from_directory(\n",
        "    train_dir,\n",
        "    target_size = input_shape[:2],\n",
        "    batch_size = batch_size,\n",
        "    class_mode = 'categorical'\n",
        ")"
      ],
      "metadata": {
        "colab": {
          "base_uri": "https://localhost:8080/"
        },
        "id": "HwzAmqSNKdVk",
        "outputId": "89b56e2f-8f7f-42c1-a6cd-0deb41b3b6cd"
      },
      "execution_count": 129,
      "outputs": [
        {
          "output_type": "stream",
          "name": "stdout",
          "text": [
            "Found 2251 images belonging to 2 classes.\n"
          ]
        }
      ]
    },
    {
      "cell_type": "code",
      "source": [
        "test_gen = test_datagen.flow_from_directory(\n",
        "    test_dir,\n",
        "    target_size = input_shape[:2],\n",
        "    batch_size = batch_size,\n",
        "    class_mode = 'categorical',\n",
        "    color_mode='rgb'\n",
        ")"
      ],
      "metadata": {
        "colab": {
          "base_uri": "https://localhost:8080/"
        },
        "id": "VgfzJXcPLZcu",
        "outputId": "f50d6a3d-260e-4e18-82a1-5f9a64d1aaf1"
      },
      "execution_count": 130,
      "outputs": [
        {
          "output_type": "stream",
          "name": "stdout",
          "text": [
            "Found 250 images belonging to 2 classes.\n"
          ]
        }
      ]
    },
    {
      "cell_type": "code",
      "source": [
        "train_gen.image_shape"
      ],
      "metadata": {
        "colab": {
          "base_uri": "https://localhost:8080/"
        },
        "id": "v-A24zINRwg8",
        "outputId": "8021823b-6a4f-4f37-b5dd-87a8381a866d"
      },
      "execution_count": 131,
      "outputs": [
        {
          "output_type": "execute_result",
          "data": {
            "text/plain": [
              "(224, 224, 3)"
            ]
          },
          "metadata": {},
          "execution_count": 131
        }
      ]
    },
    {
      "cell_type": "code",
      "source": [
        "import numpy as np"
      ],
      "metadata": {
        "id": "KdRTsT-lSpxI"
      },
      "execution_count": 132,
      "outputs": []
    },
    {
      "cell_type": "code",
      "source": [
        "# train_gen = np.expand_dims(train_gen,axis=0)"
      ],
      "metadata": {
        "id": "CfnLq08hSxt-"
      },
      "execution_count": 133,
      "outputs": []
    },
    {
      "cell_type": "code",
      "source": [
        "test_gen.image_shape"
      ],
      "metadata": {
        "colab": {
          "base_uri": "https://localhost:8080/"
        },
        "id": "zCGuozfY4yQC",
        "outputId": "ed81ef2c-2c42-4b2a-85e5-c39162564b79"
      },
      "execution_count": 134,
      "outputs": [
        {
          "output_type": "execute_result",
          "data": {
            "text/plain": [
              "(224, 224, 3)"
            ]
          },
          "metadata": {},
          "execution_count": 134
        }
      ]
    },
    {
      "cell_type": "code",
      "source": [],
      "metadata": {
        "id": "T5p4nsXC4kR-"
      },
      "execution_count": 134,
      "outputs": []
    },
    {
      "cell_type": "code",
      "source": [
        "resnet = ResNet50(include_top = False, input_shape = input_shape)"
      ],
      "metadata": {
        "id": "ifmtjyerLqng"
      },
      "execution_count": 135,
      "outputs": []
    },
    {
      "cell_type": "code",
      "source": [
        "for layer in resnet.layers:\n",
        "  layer.trainable = False"
      ],
      "metadata": {
        "id": "i8vAyXgqMGpz"
      },
      "execution_count": 136,
      "outputs": []
    },
    {
      "cell_type": "code",
      "source": [
        "x = Flatten()(resnet.output)\n",
        "output = Dense(num_classes,activation='softmax')(x)"
      ],
      "metadata": {
        "id": "fwDxo3h-NTTa"
      },
      "execution_count": 137,
      "outputs": []
    },
    {
      "cell_type": "code",
      "source": [
        "model = Model(inputs=resnet.input,outputs=output)"
      ],
      "metadata": {
        "id": "1HKKvMK5NcJA"
      },
      "execution_count": 138,
      "outputs": []
    },
    {
      "cell_type": "code",
      "source": [
        "model.compile(optimizer='adam',loss='categorical_crossentropy',metrics=['accuracy'])\n"
      ],
      "metadata": {
        "id": "MUFVUUq9NlH3"
      },
      "execution_count": 139,
      "outputs": []
    },
    {
      "cell_type": "code",
      "source": [
        "import tensorflow as tf"
      ],
      "metadata": {
        "id": "QvGbaHr3Y2Q9"
      },
      "execution_count": 140,
      "outputs": []
    },
    {
      "cell_type": "code",
      "source": [],
      "metadata": {
        "id": "0pdPYSyYN2NK"
      },
      "execution_count": 140,
      "outputs": []
    },
    {
      "cell_type": "code",
      "source": [
        "history = model.fit(train_gen,epochs=5,validation_data=test_gen)"
      ],
      "metadata": {
        "colab": {
          "base_uri": "https://localhost:8080/"
        },
        "id": "HRFzbJ_LOB8l",
        "outputId": "00f14380-86f2-4c25-f126-bbf92012fe11"
      },
      "execution_count": 141,
      "outputs": [
        {
          "output_type": "stream",
          "name": "stdout",
          "text": [
            "Epoch 1/5\n",
            "71/71 [==============================] - 186s 2s/step - loss: 1.0358 - accuracy: 0.7006 - val_loss: 0.7578 - val_accuracy: 0.7400\n",
            "Epoch 2/5\n",
            "71/71 [==============================] - 12s 172ms/step - loss: 0.3717 - accuracy: 0.8476 - val_loss: 1.5750 - val_accuracy: 0.6120\n",
            "Epoch 3/5\n",
            "71/71 [==============================] - 12s 173ms/step - loss: 0.2234 - accuracy: 0.9080 - val_loss: 0.8729 - val_accuracy: 0.7120\n",
            "Epoch 4/5\n",
            "71/71 [==============================] - 12s 174ms/step - loss: 0.1431 - accuracy: 0.9494 - val_loss: 1.2101 - val_accuracy: 0.6520\n",
            "Epoch 5/5\n",
            "71/71 [==============================] - 13s 176ms/step - loss: 0.1704 - accuracy: 0.9276 - val_loss: 0.6071 - val_accuracy: 0.7720\n"
          ]
        }
      ]
    },
    {
      "cell_type": "code",
      "source": [],
      "metadata": {
        "id": "JNrHkT2mPWaC"
      },
      "execution_count": null,
      "outputs": []
    }
  ]
}