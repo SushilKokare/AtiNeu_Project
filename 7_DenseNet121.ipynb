{
  "nbformat": 4,
  "nbformat_minor": 0,
  "metadata": {
    "colab": {
      "provenance": [],
      "authorship_tag": "ABX9TyOFnymrZU9FiEQX+57NktiL",
      "include_colab_link": true
    },
    "kernelspec": {
      "name": "python3",
      "display_name": "Python 3"
    },
    "language_info": {
      "name": "python"
    },
    "accelerator": "GPU",
    "gpuClass": "standard"
  },
  "cells": [
    {
      "cell_type": "markdown",
      "metadata": {
        "id": "view-in-github",
        "colab_type": "text"
      },
      "source": [
        "<a href=\"https://colab.research.google.com/github/SushilKokare/AtiNeu_Project/blob/main/7_DenseNet121.ipynb\" target=\"_parent\"><img src=\"https://colab.research.google.com/assets/colab-badge.svg\" alt=\"Open In Colab\"/></a>"
      ]
    },
    {
      "cell_type": "code",
      "execution_count": 1,
      "metadata": {
        "id": "y4EMnRO-cUeX"
      },
      "outputs": [],
      "source": [
        "from google.colab import drive"
      ]
    },
    {
      "cell_type": "code",
      "source": [
        "drive.mount('/content/drive')"
      ],
      "metadata": {
        "colab": {
          "base_uri": "https://localhost:8080/"
        },
        "id": "7NHSsAqtci6r",
        "outputId": "e7e88f1a-98c0-43b7-ad02-76a3948fae83"
      },
      "execution_count": 2,
      "outputs": [
        {
          "output_type": "stream",
          "name": "stdout",
          "text": [
            "Mounted at /content/drive\n"
          ]
        }
      ]
    },
    {
      "cell_type": "code",
      "source": [
        "import numpy as np\n",
        "import os\n",
        "import tensorflow as tf\n",
        "from tensorflow.keras.preprocessing.image import ImageDataGenerator\n",
        "from tensorflow.keras.applications.densenet import DenseNet121\n",
        "from keras.layers import Dense,Flatten\n",
        "from keras.models import Model"
      ],
      "metadata": {
        "id": "xGmcJfXdckC8"
      },
      "execution_count": 13,
      "outputs": []
    },
    {
      "cell_type": "code",
      "source": [
        "input_shape = (224,224)\n",
        "batch_size=32"
      ],
      "metadata": {
        "id": "DzCp7Hg9cmzW"
      },
      "execution_count": 22,
      "outputs": []
    },
    {
      "cell_type": "code",
      "source": [
        "train_dir = '/content/drive/MyDrive/AtiNeu Project/Data/MRI/Brain_Data_Organised/Train'\n",
        "test_dir = '/content/drive/MyDrive/AtiNeu Project/Data/MRI/Brain_Data_Organised/Test'"
      ],
      "metadata": {
        "id": "PJHaN7BJcye7"
      },
      "execution_count": 23,
      "outputs": []
    },
    {
      "cell_type": "code",
      "source": [
        "train_datagen = ImageDataGenerator (rescale = 1./225,)\n",
        "test_datagen = ImageDataGenerator (rescale = 1./225)"
      ],
      "metadata": {
        "id": "b3ll4dJNc0R6"
      },
      "execution_count": 24,
      "outputs": []
    },
    {
      "cell_type": "code",
      "source": [
        "train_gen  = train_datagen.flow_from_directory(\n",
        "    train_dir,\n",
        "    target_size = input_shape,\n",
        "    class_mode = 'binary',\n",
        "    batch_size = batch_size,\n",
        "    classes=['Normal','Stroke']\n",
        ")"
      ],
      "metadata": {
        "colab": {
          "base_uri": "https://localhost:8080/"
        },
        "id": "W-7RBMF5dRw8",
        "outputId": "a5618cf4-87c2-4aaf-b587-1ad03d64928d"
      },
      "execution_count": 25,
      "outputs": [
        {
          "output_type": "stream",
          "name": "stdout",
          "text": [
            "Found 2251 images belonging to 2 classes.\n"
          ]
        }
      ]
    },
    {
      "cell_type": "code",
      "source": [
        "test_gen = test_datagen.flow_from_directory(\n",
        "    test_dir,\n",
        "    target_size = input_shape,\n",
        "    batch_size = batch_size,\n",
        "    class_mode = 'binary',\n",
        "    classes=['Normal','Stroke']\n",
        ")"
      ],
      "metadata": {
        "colab": {
          "base_uri": "https://localhost:8080/"
        },
        "id": "QB64cL8OdUOP",
        "outputId": "46b953b0-8d1b-4bc5-e0bd-ec66aca1c2b2"
      },
      "execution_count": 26,
      "outputs": [
        {
          "output_type": "stream",
          "name": "stdout",
          "text": [
            "Found 250 images belonging to 2 classes.\n"
          ]
        }
      ]
    },
    {
      "cell_type": "code",
      "source": [],
      "metadata": {
        "id": "p7PH2W0AdWJ6"
      },
      "execution_count": 29,
      "outputs": []
    },
    {
      "cell_type": "code",
      "source": [
        "base_model = DenseNet121(weights='imagenet',include_top=False,\n",
        "                         input_shape=(input_shape[0],input_shape[1],3))"
      ],
      "metadata": {
        "colab": {
          "base_uri": "https://localhost:8080/"
        },
        "id": "YH7gxwgxdYIv",
        "outputId": "beb75210-d69b-4971-c969-fcc9168b18b7"
      },
      "execution_count": 32,
      "outputs": [
        {
          "output_type": "stream",
          "name": "stdout",
          "text": [
            "Downloading data from https://storage.googleapis.com/tensorflow/keras-applications/densenet/densenet121_weights_tf_dim_ordering_tf_kernels_notop.h5\n",
            "29084464/29084464 [==============================] - 2s 0us/step\n"
          ]
        }
      ]
    },
    {
      "cell_type": "code",
      "source": [
        "from tensorflow.keras.layers import Dense,GlobalAveragePooling2D"
      ],
      "metadata": {
        "id": "NCbxzRADhEpw"
      },
      "execution_count": 33,
      "outputs": []
    },
    {
      "cell_type": "code",
      "source": [
        "x = base_model.output\n",
        "x = GlobalAveragePooling2D()(x)\n",
        "x = Dense(1,activation='sigmoid')(x)\n"
      ],
      "metadata": {
        "id": "OhFqidHudZec"
      },
      "execution_count": 35,
      "outputs": []
    },
    {
      "cell_type": "code",
      "source": [
        "model = Model(inputs=base_model.input,outputs=x)"
      ],
      "metadata": {
        "id": "Uf3djcMFdbPC"
      },
      "execution_count": 37,
      "outputs": []
    },
    {
      "cell_type": "code",
      "source": [
        "model.compile(loss='binary_crossentropy',optimizer='adam',metrics=['accuracy'])"
      ],
      "metadata": {
        "id": "_IsKz2C2dc_p"
      },
      "execution_count": 38,
      "outputs": []
    },
    {
      "cell_type": "code",
      "source": [
        "history = model.fit(\n",
        "    train_gen,\n",
        "    epochs=10,\n",
        "    validation_data=test_gen\n",
        ")"
      ],
      "metadata": {
        "colab": {
          "base_uri": "https://localhost:8080/"
        },
        "id": "6NDXmRJohmu8",
        "outputId": "e958c288-bb19-48c2-870b-ab1799c9dc69"
      },
      "execution_count": 54,
      "outputs": [
        {
          "output_type": "stream",
          "name": "stdout",
          "text": [
            "Epoch 1/10\n",
            "71/71 [==============================] - 27s 376ms/step - loss: 0.1692 - accuracy: 0.9351 - val_loss: 4.4369 - val_accuracy: 0.6480\n",
            "Epoch 2/10\n",
            "71/71 [==============================] - 27s 376ms/step - loss: 0.1133 - accuracy: 0.9614 - val_loss: 2.9020 - val_accuracy: 0.6960\n",
            "Epoch 3/10\n",
            "71/71 [==============================] - 27s 374ms/step - loss: 0.1203 - accuracy: 0.9574 - val_loss: 1.5570 - val_accuracy: 0.6560\n",
            "Epoch 4/10\n",
            "71/71 [==============================] - 26s 371ms/step - loss: 0.0619 - accuracy: 0.9782 - val_loss: 1.0159 - val_accuracy: 0.7720\n",
            "Epoch 5/10\n",
            "71/71 [==============================] - 27s 377ms/step - loss: 0.0649 - accuracy: 0.9787 - val_loss: 0.3839 - val_accuracy: 0.8600\n",
            "Epoch 6/10\n",
            "71/71 [==============================] - 27s 372ms/step - loss: 0.0725 - accuracy: 0.9720 - val_loss: 0.5753 - val_accuracy: 0.8800\n",
            "Epoch 7/10\n",
            "71/71 [==============================] - 28s 396ms/step - loss: 0.0190 - accuracy: 0.9942 - val_loss: 0.5292 - val_accuracy: 0.8960\n",
            "Epoch 8/10\n",
            "71/71 [==============================] - 27s 374ms/step - loss: 0.1159 - accuracy: 0.9614 - val_loss: 1.9647 - val_accuracy: 0.7040\n",
            "Epoch 9/10\n",
            "71/71 [==============================] - 27s 373ms/step - loss: 0.0308 - accuracy: 0.9889 - val_loss: 0.1440 - val_accuracy: 0.9480\n",
            "Epoch 10/10\n",
            "71/71 [==============================] - 27s 373ms/step - loss: 0.0244 - accuracy: 0.9911 - val_loss: 0.9120 - val_accuracy: 0.7600\n"
          ]
        }
      ]
    },
    {
      "cell_type": "code",
      "source": [
        "loss,acc = model.evaluate(test_gen)"
      ],
      "metadata": {
        "colab": {
          "base_uri": "https://localhost:8080/"
        },
        "id": "sUApagkEh87q",
        "outputId": "834b07c7-7334-42a2-e84f-3c13b8cb0ea6"
      },
      "execution_count": 55,
      "outputs": [
        {
          "output_type": "stream",
          "name": "stdout",
          "text": [
            "8/8 [==============================] - 1s 135ms/step - loss: 0.9120 - accuracy: 0.7600\n"
          ]
        }
      ]
    },
    {
      "cell_type": "code",
      "source": [
        "print('Acc ',acc)"
      ],
      "metadata": {
        "colab": {
          "base_uri": "https://localhost:8080/"
        },
        "id": "7L_hLJTwo52z",
        "outputId": "3262465c-347f-4e68-b15f-7ffc9e9a68f7"
      },
      "execution_count": 56,
      "outputs": [
        {
          "output_type": "stream",
          "name": "stdout",
          "text": [
            "Acc  0.7599999904632568\n"
          ]
        }
      ]
    },
    {
      "cell_type": "code",
      "source": [
        "import pandas as pd"
      ],
      "metadata": {
        "id": "O99Tbl9hqH5U"
      },
      "execution_count": 57,
      "outputs": []
    },
    {
      "cell_type": "code",
      "source": [
        "pd.DataFrame(history.history)"
      ],
      "metadata": {
        "colab": {
          "base_uri": "https://localhost:8080/",
          "height": 363
        },
        "id": "ja0pgOrMo8Fk",
        "outputId": "d646e8dd-2eb2-42a1-9839-bc28fa7aa451"
      },
      "execution_count": 58,
      "outputs": [
        {
          "output_type": "execute_result",
          "data": {
            "text/plain": [
              "       loss  accuracy  val_loss  val_accuracy\n",
              "0  0.169159  0.935140  4.436914         0.648\n",
              "1  0.113274  0.961351  2.901963         0.696\n",
              "2  0.120316  0.957352  1.556951         0.656\n",
              "3  0.061928  0.978232  1.015901         0.772\n",
              "4  0.064943  0.978676  0.383931         0.860\n",
              "5  0.072505  0.972012  0.575336         0.880\n",
              "6  0.019021  0.994225  0.529233         0.896\n",
              "7  0.115931  0.961351  1.964658         0.704\n",
              "8  0.030828  0.988894  0.144009         0.948\n",
              "9  0.024402  0.991115  0.912011         0.760"
            ],
            "text/html": [
              "\n",
              "  <div id=\"df-69572fed-e679-4ea3-a00d-8b0f799bc8cd\">\n",
              "    <div class=\"colab-df-container\">\n",
              "      <div>\n",
              "<style scoped>\n",
              "    .dataframe tbody tr th:only-of-type {\n",
              "        vertical-align: middle;\n",
              "    }\n",
              "\n",
              "    .dataframe tbody tr th {\n",
              "        vertical-align: top;\n",
              "    }\n",
              "\n",
              "    .dataframe thead th {\n",
              "        text-align: right;\n",
              "    }\n",
              "</style>\n",
              "<table border=\"1\" class=\"dataframe\">\n",
              "  <thead>\n",
              "    <tr style=\"text-align: right;\">\n",
              "      <th></th>\n",
              "      <th>loss</th>\n",
              "      <th>accuracy</th>\n",
              "      <th>val_loss</th>\n",
              "      <th>val_accuracy</th>\n",
              "    </tr>\n",
              "  </thead>\n",
              "  <tbody>\n",
              "    <tr>\n",
              "      <th>0</th>\n",
              "      <td>0.169159</td>\n",
              "      <td>0.935140</td>\n",
              "      <td>4.436914</td>\n",
              "      <td>0.648</td>\n",
              "    </tr>\n",
              "    <tr>\n",
              "      <th>1</th>\n",
              "      <td>0.113274</td>\n",
              "      <td>0.961351</td>\n",
              "      <td>2.901963</td>\n",
              "      <td>0.696</td>\n",
              "    </tr>\n",
              "    <tr>\n",
              "      <th>2</th>\n",
              "      <td>0.120316</td>\n",
              "      <td>0.957352</td>\n",
              "      <td>1.556951</td>\n",
              "      <td>0.656</td>\n",
              "    </tr>\n",
              "    <tr>\n",
              "      <th>3</th>\n",
              "      <td>0.061928</td>\n",
              "      <td>0.978232</td>\n",
              "      <td>1.015901</td>\n",
              "      <td>0.772</td>\n",
              "    </tr>\n",
              "    <tr>\n",
              "      <th>4</th>\n",
              "      <td>0.064943</td>\n",
              "      <td>0.978676</td>\n",
              "      <td>0.383931</td>\n",
              "      <td>0.860</td>\n",
              "    </tr>\n",
              "    <tr>\n",
              "      <th>5</th>\n",
              "      <td>0.072505</td>\n",
              "      <td>0.972012</td>\n",
              "      <td>0.575336</td>\n",
              "      <td>0.880</td>\n",
              "    </tr>\n",
              "    <tr>\n",
              "      <th>6</th>\n",
              "      <td>0.019021</td>\n",
              "      <td>0.994225</td>\n",
              "      <td>0.529233</td>\n",
              "      <td>0.896</td>\n",
              "    </tr>\n",
              "    <tr>\n",
              "      <th>7</th>\n",
              "      <td>0.115931</td>\n",
              "      <td>0.961351</td>\n",
              "      <td>1.964658</td>\n",
              "      <td>0.704</td>\n",
              "    </tr>\n",
              "    <tr>\n",
              "      <th>8</th>\n",
              "      <td>0.030828</td>\n",
              "      <td>0.988894</td>\n",
              "      <td>0.144009</td>\n",
              "      <td>0.948</td>\n",
              "    </tr>\n",
              "    <tr>\n",
              "      <th>9</th>\n",
              "      <td>0.024402</td>\n",
              "      <td>0.991115</td>\n",
              "      <td>0.912011</td>\n",
              "      <td>0.760</td>\n",
              "    </tr>\n",
              "  </tbody>\n",
              "</table>\n",
              "</div>\n",
              "      <button class=\"colab-df-convert\" onclick=\"convertToInteractive('df-69572fed-e679-4ea3-a00d-8b0f799bc8cd')\"\n",
              "              title=\"Convert this dataframe to an interactive table.\"\n",
              "              style=\"display:none;\">\n",
              "        \n",
              "  <svg xmlns=\"http://www.w3.org/2000/svg\" height=\"24px\"viewBox=\"0 0 24 24\"\n",
              "       width=\"24px\">\n",
              "    <path d=\"M0 0h24v24H0V0z\" fill=\"none\"/>\n",
              "    <path d=\"M18.56 5.44l.94 2.06.94-2.06 2.06-.94-2.06-.94-.94-2.06-.94 2.06-2.06.94zm-11 1L8.5 8.5l.94-2.06 2.06-.94-2.06-.94L8.5 2.5l-.94 2.06-2.06.94zm10 10l.94 2.06.94-2.06 2.06-.94-2.06-.94-.94-2.06-.94 2.06-2.06.94z\"/><path d=\"M17.41 7.96l-1.37-1.37c-.4-.4-.92-.59-1.43-.59-.52 0-1.04.2-1.43.59L10.3 9.45l-7.72 7.72c-.78.78-.78 2.05 0 2.83L4 21.41c.39.39.9.59 1.41.59.51 0 1.02-.2 1.41-.59l7.78-7.78 2.81-2.81c.8-.78.8-2.07 0-2.86zM5.41 20L4 18.59l7.72-7.72 1.47 1.35L5.41 20z\"/>\n",
              "  </svg>\n",
              "      </button>\n",
              "      \n",
              "  <style>\n",
              "    .colab-df-container {\n",
              "      display:flex;\n",
              "      flex-wrap:wrap;\n",
              "      gap: 12px;\n",
              "    }\n",
              "\n",
              "    .colab-df-convert {\n",
              "      background-color: #E8F0FE;\n",
              "      border: none;\n",
              "      border-radius: 50%;\n",
              "      cursor: pointer;\n",
              "      display: none;\n",
              "      fill: #1967D2;\n",
              "      height: 32px;\n",
              "      padding: 0 0 0 0;\n",
              "      width: 32px;\n",
              "    }\n",
              "\n",
              "    .colab-df-convert:hover {\n",
              "      background-color: #E2EBFA;\n",
              "      box-shadow: 0px 1px 2px rgba(60, 64, 67, 0.3), 0px 1px 3px 1px rgba(60, 64, 67, 0.15);\n",
              "      fill: #174EA6;\n",
              "    }\n",
              "\n",
              "    [theme=dark] .colab-df-convert {\n",
              "      background-color: #3B4455;\n",
              "      fill: #D2E3FC;\n",
              "    }\n",
              "\n",
              "    [theme=dark] .colab-df-convert:hover {\n",
              "      background-color: #434B5C;\n",
              "      box-shadow: 0px 1px 3px 1px rgba(0, 0, 0, 0.15);\n",
              "      filter: drop-shadow(0px 1px 2px rgba(0, 0, 0, 0.3));\n",
              "      fill: #FFFFFF;\n",
              "    }\n",
              "  </style>\n",
              "\n",
              "      <script>\n",
              "        const buttonEl =\n",
              "          document.querySelector('#df-69572fed-e679-4ea3-a00d-8b0f799bc8cd button.colab-df-convert');\n",
              "        buttonEl.style.display =\n",
              "          google.colab.kernel.accessAllowed ? 'block' : 'none';\n",
              "\n",
              "        async function convertToInteractive(key) {\n",
              "          const element = document.querySelector('#df-69572fed-e679-4ea3-a00d-8b0f799bc8cd');\n",
              "          const dataTable =\n",
              "            await google.colab.kernel.invokeFunction('convertToInteractive',\n",
              "                                                     [key], {});\n",
              "          if (!dataTable) return;\n",
              "\n",
              "          const docLinkHtml = 'Like what you see? Visit the ' +\n",
              "            '<a target=\"_blank\" href=https://colab.research.google.com/notebooks/data_table.ipynb>data table notebook</a>'\n",
              "            + ' to learn more about interactive tables.';\n",
              "          element.innerHTML = '';\n",
              "          dataTable['output_type'] = 'display_data';\n",
              "          await google.colab.output.renderOutput(dataTable, element);\n",
              "          const docLink = document.createElement('div');\n",
              "          docLink.innerHTML = docLinkHtml;\n",
              "          element.appendChild(docLink);\n",
              "        }\n",
              "      </script>\n",
              "    </div>\n",
              "  </div>\n",
              "  "
            ]
          },
          "metadata": {},
          "execution_count": 58
        }
      ]
    },
    {
      "cell_type": "code",
      "source": [
        "import matplotlib.pyplot as plt"
      ],
      "metadata": {
        "id": "GeTYmdGZqFjd"
      },
      "execution_count": 59,
      "outputs": []
    },
    {
      "cell_type": "code",
      "source": [
        "plt.figure()\n",
        "plt.xlabel('Epochs')\n",
        "plt.ylabel('Acc')\n",
        "for i in ['accuracy','val_accuracy']:\n",
        "  x = history.history[i]\n",
        "  plt.plot(x,label=i)\n",
        "plt.legend()"
      ],
      "metadata": {
        "colab": {
          "base_uri": "https://localhost:8080/",
          "height": 296
        },
        "id": "Afvao3ZuqOkD",
        "outputId": "1f106ad9-0894-4ab4-fd25-33ba758837e9"
      },
      "execution_count": 60,
      "outputs": [
        {
          "output_type": "execute_result",
          "data": {
            "text/plain": [
              "<matplotlib.legend.Legend at 0x7fe5d61ad760>"
            ]
          },
          "metadata": {},
          "execution_count": 60
        },
        {
          "output_type": "display_data",
          "data": {
            "text/plain": [
              "<Figure size 432x288 with 1 Axes>"
            ],
            "image/png": "[encoded data removed]"
          },
          "metadata": {
            "needs_background": "light"
          }
        }
      ]
    },
    {
      "cell_type": "code",
      "source": [],
      "metadata": {
        "id": "TKWQc6PGqhaU"
      },
      "execution_count": 52,
      "outputs": []
    }
  ]
}